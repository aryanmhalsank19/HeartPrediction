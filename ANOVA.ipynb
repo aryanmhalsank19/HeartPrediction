import pandas as pd
from sklearn.feature_selection import SelectKBest, f_classif

# Load the dataset
heart_data = pd.read_csv('clevland_dataset.csv')

# Separate features (X) and target variable (Y)
X = heart_data.drop(columns=['target'])
Y = heart_data['target']

# Perform ANOVA F-value feature selection
selector = SelectKBest(score_func=f_classif, k='all')
X_selected = selector.fit_transform(X, Y)

# Get selected feature names and their corresponding F-values
selected_features_df = pd.DataFrame({'Feature': X.columns, 'F-value': selector.scores_})
selected_features_df = selected_features_df.sort_values(by='F-value', ascending=False)

# Display the selected features in a table format
print(selected_features_df)

