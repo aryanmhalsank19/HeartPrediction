{
  "nbformat": 4,
  "nbformat_minor": 0,
  "metadata": {
    "colab": {
      "provenance": [],
      "authorship_tag": "ABX9TyMLTlwZuFA1AHmhbcA/X088",
      "include_colab_link": true
    },
    "kernelspec": {
      "name": "python3",
      "display_name": "Python 3"
    },
    "language_info": {
      "name": "python"
    }
  },
  "cells": [
    {
      "cell_type": "markdown",
      "metadata": {
        "id": "view-in-github",
        "colab_type": "text"
      },
      "source": [
        "<a href=\"https://colab.research.google.com/github/aryanmhalsank19/HeartPrediction/blob/master/chisquare.ipynb\" target=\"_parent\"><img src=\"https://colab.research.google.com/assets/colab-badge.svg\" alt=\"Open In Colab\"/></a>"
      ]
    },
    {
      "cell_type": "code",
      "execution_count": 5,
      "metadata": {
        "colab": {
          "base_uri": "https://localhost:8080/"
        },
        "id": "q45gSmW8cdsE",
        "outputId": "faf107d9-8c2c-4d0e-a939-2490e9003e7e"
      },
      "outputs": [
        {
          "output_type": "stream",
          "name": "stdout",
          "text": [
            "Feature Scores Table:\n",
            "     Feature  Chi2 Score       P-value\n",
            "7    thalach  219.883557  1.986038e-46\n",
            "11        ca  107.213553  2.858376e-22\n",
            "9    oldpeak   98.505523  2.046244e-20\n",
            "12      thal   70.520283  1.762563e-14\n",
            "8      exang   39.119182  6.582518e-08\n",
            "4       chol   38.167452  1.034874e-07\n",
            "0        age   27.975233  1.261793e-05\n",
            "3   trestbps   19.348090  6.713433e-04\n",
            "2         cp   16.383180  2.545823e-03\n",
            "6    restecg   13.026434  1.114735e-02\n",
            "10     slope   10.178421  3.752710e-02\n",
            "1        sex    7.511646  1.111968e-01\n",
            "5        fbs    6.778461  1.480690e-01\n"
          ]
        }
      ],
      "source": [
        "import pandas as pd\n",
        "from sklearn.feature_selection import SelectKBest\n",
        "from sklearn.feature_selection import chi2\n",
        "\n",
        "# Load the Cleveland heart disease dataset\n",
        "data_url = \"https://archive.ics.uci.edu/ml/machine-learning-databases/heart-disease/processed.cleveland.data\"\n",
        "column_names = ['age', 'sex', 'cp', 'trestbps', 'chol', 'fbs', 'restecg',\n",
        "                'thalach', 'exang', 'oldpeak', 'slope', 'ca', 'thal', 'target']\n",
        "heart_data = pd.read_csv(data_url, names=column_names, na_values='?')\n",
        "\n",
        "# Drop rows with missing values\n",
        "heart_data.dropna(inplace=True)\n",
        "\n",
        "# Separate features and target\n",
        "X = heart_data.drop('target', axis=1)\n",
        "y = heart_data['target']\n",
        "\n",
        "# Initialize SelectKBest with the chi2 scoring function\n",
        "k = 9  # Select top 5 features, you can adjust this number\n",
        "selector = SelectKBest(score_func=chi2, k=k)\n",
        "\n",
        "# Fit selector to the data\n",
        "selector.fit(X, y)\n",
        "\n",
        "# Get the chi2 scores and p-values for each feature\n",
        "scores = selector.scores_\n",
        "p_values = selector.pvalues_\n",
        "\n",
        "# Create a DataFrame to store feature names, scores, and p-values\n",
        "feature_scores_df = pd.DataFrame({\n",
        "    'Feature': X.columns,\n",
        "    'Chi2 Score': scores,\n",
        "    'P-value': p_values\n",
        "})\n",
        "\n",
        "# Sort the DataFrame by chi2 scores in descending order\n",
        "feature_scores_df = feature_scores_df.sort_values(by='Chi2 Score', ascending=False)\n",
        "\n",
        "# Print the feature scores table\n",
        "print(\"Feature Scores Table:\")\n",
        "print(feature_scores_df)\n"
      ]
    }
  ]
}