{
 "cells": [
  {
   "cell_type": "code",
   "execution_count": 3,
   "metadata": {},
   "outputs": [
    {
     "name": "stdout",
     "output_type": "stream",
     "text": [
      "Accuracy on Training data :  0.8842975206611571\n",
      "Accuracy on Test data :  0.819672131147541\n",
      "The Person has Heart Disease\n"
     ]
    },
    {
     "name": "stderr",
     "output_type": "stream",
     "text": [
      "/home/aryanmhalsank/.local/lib/python3.8/site-packages/sklearn/base.py:465: UserWarning: X does not have valid feature names, but StandardScaler was fitted with feature names\n",
      "  warnings.warn(\n"
     ]
    }
   ],
   "source": [
    "import pandas as pd\n",
    "import numpy as np\n",
    "from sklearn.model_selection import train_test_split\n",
    "from sklearn.preprocessing import StandardScaler\n",
    "from sklearn.neighbors import KNeighborsClassifier\n",
    "from sklearn.metrics import accuracy_score\n",
    "\n",
    "# Load the heart dataset\n",
    "heart_data = pd.read_csv('clevland_dataset.csv')\n",
    "\n",
    "# Separate features (X) and target variable (Y)\n",
    "X = heart_data.drop(columns='target', axis=1)\n",
    "Y = heart_data['target']\n",
    "\n",
    "# Split the data into training and testing sets\n",
    "X_train, X_test, Y_train, Y_test = train_test_split(X, Y, test_size=0.2, stratify=Y, random_state=1)\n",
    "\n",
    "# Standardize the data\n",
    "scaler = StandardScaler()\n",
    "X_train = scaler.fit_transform(X_train)\n",
    "X_test = scaler.transform(X_test)\n",
    "\n",
    "# Create a KNN classifier\n",
    "model = KNeighborsClassifier(n_neighbors=5)\n",
    "\n",
    "# Train the KNN model\n",
    "model.fit(X_train, Y_train)\n",
    "\n",
    "# Accuracy on training data\n",
    "train_pred = model.predict(X_train)\n",
    "train_accuracy = accuracy_score(train_pred, Y_train)\n",
    "print('Accuracy on Training data : ', train_accuracy)\n",
    "\n",
    "# Accuracy on test data\n",
    "test_pred = model.predict(X_test)\n",
    "test_accuracy = accuracy_score(test_pred, Y_test)\n",
    "print('Accuracy on Test data : ', test_accuracy)\n",
    "\n",
    "\n",
    "# numpy array static data\n",
    "user_data = np.array([64,1,3,128,263,0,0,105,1,0.2,1,1,3]).reshape(1, -1)\n",
    "\n",
    "#scalar for standardize\n",
    "user_data_scaled = scaler.transform(user_data)\n",
    "\n",
    "# Prediction\n",
    "prediction = model.predict(user_data_scaled)\n",
    "if prediction[0] == 0:\n",
    "    result = \"The Person does not have a Heart Disease\"\n",
    "else:\n",
    "    result = \"The Person has Heart Disease\"\n",
    "\n",
    "print(result)\n"
   ]
  }
 ],
 "metadata": {
  "kernelspec": {
   "display_name": "Python 3",
   "language": "python",
   "name": "python3"
  },
  "language_info": {
   "codemirror_mode": {
    "name": "ipython",
    "version": 3
   },
   "file_extension": ".py",
   "mimetype": "text/x-python",
   "name": "python",
   "nbconvert_exporter": "python",
   "pygments_lexer": "ipython3",
   "version": "3.8.10"
  }
 },
 "nbformat": 4,
 "nbformat_minor": 2
}
